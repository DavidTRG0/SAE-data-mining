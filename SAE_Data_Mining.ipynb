{
  "cells": [
    {
      "cell_type": "markdown",
      "metadata": {
        "id": "wAeNBJIH4eo7"
      },
      "source": [
        "Import des bibliothèque necessaires"
      ]
    },
    {
      "cell_type": "code",
      "execution_count": null,
      "metadata": {
        "colab": {
          "base_uri": "https://localhost:8080/"
        },
        "id": "YXJFT3hINTdG",
        "outputId": "1fbc9125-d7af-4241-ecd5-93fa5859be1d"
      },
      "outputs": [],
      "source": [
        "# Importations standard\n",
        "import json\n",
        "import string\n",
        "import re\n",
        "\n",
        "# Importations de bibliothèques tierces\n",
        "import pandas as pd\n",
        "import matplotlib.pyplot as plt\n",
        "from itertools import product\n",
        "import seaborn as sns\n",
        "\n",
        "# Importations des modules sklearn\n",
        "from sklearn.model_selection import train_test_split, GridSearchCV\n",
        "from sklearn.metrics import accuracy_score\n",
        "from sklearn.feature_extraction.text import CountVectorizer, TfidfVectorizer\n",
        "from sklearn.decomposition import TruncatedSVD, NMF\n",
        "from sklearn.metrics import f1_score, confusion_matrix\n",
        "\n",
        "# Importations nltk\n",
        "import nltk\n",
        "from nltk.stem import WordNetLemmatizer\n",
        "from nltk.stem.snowball import SnowballStemmer\n",
        "from nltk.corpus import stopwords\n",
        "\n",
        "# Vérifier et télécharger les ressources nltk si nécessaires\n",
        "nltk_resources = ['stopwords', 'punkt', 'wordnet']\n",
        "for resource in nltk_resources:\n",
        "    try:\n",
        "        nltk.data.find(f'tokenizers/{resource}' if resource == 'punkt' else f'corpora/{resource}')\n",
        "    except LookupError:\n",
        "        nltk.download(resource)\n"
      ]
    },
    {
      "cell_type": "markdown",
      "metadata": {
        "id": "Oc4hk45n4kjt"
      },
      "source": [
        "Classe Data pour tous les pré-traitement, vectorisation et réduction de la matrice."
      ]
    },
    {
      "cell_type": "code",
      "execution_count": 86,
      "metadata": {
        "id": "-JQ20_eh4J4b"
      },
      "outputs": [],
      "source": [
        "class Data:\n",
        "    def __init__(self, limit=5000, language=\"french\", text_column=\"texte_annonce\", test=False):\n",
        "        if test==True:\n",
        "            self.data = (pd.read_json(\"test.jsonl\", lines=True)[[\"texte_annonce\",\"OGC_FID\"]])\n",
        "        else:\n",
        "            self.data = (pd.read_json(\"train.jsonl\", lines=True)[[\"texte_annonce\", \"cal_réponse_signalement\"]]).iloc[:limit]\n",
        "            self.data[\"cal_réponse_signalement\"] = self.data[\"cal_réponse_signalement\"].map({\"Pris en compte\": 0,\"Rejete (hors specs)\": 1})\n",
        "        self.text_column = text_column\n",
        "        self.language = language\n",
        "\n",
        "\n",
        "    def get_data(self):\n",
        "        return self.data\n",
        "\n",
        "    def supprimer_stopwords(self):\n",
        "        stop_words = stopwords.words(self.language)\n",
        "        \n",
        "        def nettoyer_texte(texte):\n",
        "            texte = re.sub(r'[^\\w\\s]', '', texte)  # Retirer la ponctuation\n",
        "            texte = re.sub(r'\\d+', '', texte)      # Retirer les chiffres\n",
        "            tokens = nltk.word_tokenize(texte.lower())\n",
        "            return ' '.join([word for word in tokens if word not in stop_words])\n",
        "        \n",
        "        # Appliquer la fonction de nettoyage à la colonne texte\n",
        "        self.data[self.text_column] = self.data[self.text_column].apply(nettoyer_texte)\n",
        "        \n",
        "    def rien(self, x):\n",
        "        pass\n",
        "\n",
        "    def racinisation(self, ignore_stopwords=None):\n",
        "        stemmer = SnowballStemmer(self.language)\n",
        "        self.data[self.text_column] = self.data[self.text_column].apply(lambda x: ' '.join([stemmer.stem(word) for word in str(x).split()]))\n",
        "        self.supprimer_stopwords()\n",
        "\n",
        "    def lemmatisation(self, mode=None, overwrite=None):\n",
        "        lemmatizer = WordNetLemmatizer()\n",
        "        if mode:\n",
        "            lemmatizer.mode = mode\n",
        "        if overwrite:\n",
        "            lemmatizer.overwrite = overwrite\n",
        "        self.data[self.text_column] = self.data[self.text_column].apply(lambda x: ' '.join([lemmatizer.lemmatize(word) for word in str(x).split()]))\n",
        "        self.supprimer_stopwords()\n",
        "\n",
        "    def vectorisation_simple(self, ngram_range=None, max_features=None):\n",
        "        vectorizer = CountVectorizer()\n",
        "        if ngram_range:\n",
        "            vectorizer.ngram_range = ngram_range\n",
        "        if max_features:\n",
        "            vectorizer.max_features = max_features\n",
        "        vect_data = vectorizer.fit_transform(self.data[self.text_column])\n",
        "        vect_df = pd.DataFrame(vect_data.toarray(), columns=vectorizer.get_feature_names_out())\n",
        "        self.data = pd.concat([vect_df, self.data.iloc[:, -1]], axis=1)\n",
        "\n",
        "    def vectorisation_ponderee(self, ngram_range=None, max_features=None, norm=None):\n",
        "        vectorizer = TfidfVectorizer()\n",
        "        if ngram_range:\n",
        "            vectorizer.ngram_range = ngram_range\n",
        "        if max_features:\n",
        "            vectorizer.max_features = max_features\n",
        "        if norm:\n",
        "            vectorizer.norm = norm\n",
        "        vect_data = vectorizer.fit_transform(self.data[self.text_column])\n",
        "        vect_df = pd.DataFrame(vect_data.toarray(), columns=vectorizer.get_feature_names_out())\n",
        "        self.data = pd.concat([vect_df, self.data.iloc[:, -1]], axis=1)\n",
        "\n",
        "    def reduction_svd(self, n_components=None, n_iter=None):\n",
        "        svd = TruncatedSVD()\n",
        "        if n_components:\n",
        "            svd.n_components = n_components\n",
        "        if n_iter:\n",
        "            svd.n_iter = n_iter\n",
        "        svd = TruncatedSVD(n_components=n_components)\n",
        "        svd_result = svd.fit_transform(self.data.iloc[:, :-1])\n",
        "        self.data = pd.concat([pd.DataFrame(svd_result), self.data.iloc[:, -1]], axis=1)\n",
        "\n",
        "    def reduction_nmf(self, n_components=200, init=None):\n",
        "        nmf = NMF(n_components=n_components)\n",
        "        if init:\n",
        "            nmf.init = init\n",
        "        nmf_result = nmf.fit_transform(self.data.iloc[:, :-1])\n",
        "        self.data = pd.concat([pd.DataFrame(nmf_result), self.data.iloc[:, -1]], axis=1)\n",
        "\n",
        "    def process_and_export(self, n_components=100):\n",
        "        # Définir toutes les combinaisons possibles\n",
        "        preprocessing_methods = [self.rien, self.racinisation, self.lemmatisation]\n",
        "        vectorisation_methods = [self.vectorisation_simple, self.vectorisation_ponderee]\n",
        "        reduction_methods = [self.reduction_svd, self.reduction_nmf]\n",
        "\n",
        "        combinations = product(preprocessing_methods, vectorisation_methods, reduction_methods)\n",
        "\n",
        "        # Boucler sur toutes les combinaisons\n",
        "        for i, (preprocess, vectorize, reduce) in enumerate(combinations):\n",
        "            # Réinitialiser les données à l'état brut\n",
        "            self.data = self.data_brut.copy()\n",
        "\n",
        "            # Appliquer les méthodes\n",
        "            preprocess(self.text_column)\n",
        "            vectorize(self.text_column)\n",
        "            reduce(n_components)\n",
        "\n",
        "            # Exporter le résultat\n",
        "            output_file = f\"output_combination_{i+1}.jsonl\"\n",
        "            self.data.to_json(output_file, orient=\"records\", lines=True)\n",
        "            print(f\"Exporté : {output_file}\")\n"
      ]
    },
    {
      "cell_type": "markdown",
      "metadata": {
        "id": "HFjpIvyd_Y5S"
      },
      "source": [
        "Classe global des classifieurs permettant de faire de l'héritage"
      ]
    },
    {
      "cell_type": "code",
      "execution_count": 97,
      "metadata": {
        "id": "RA_Ne8kbpOGD"
      },
      "outputs": [],
      "source": [
        "class Classifieur:\n",
        "    def __init__(self, data):\n",
        "        # Chargement et découpage des données\n",
        "        self.chargement(data)\n",
        "        self.decoupage()\n",
        "\n",
        "    def chargement(self, data):\n",
        "        # Chargement des données et séparation X, y\n",
        "        self.data = data\n",
        "        self.X = data.iloc[:, :-1]  # Toutes les colonnes sauf la dernière (X)\n",
        "        self.y = data.iloc[:, -1]   # Dernière colonne (y)\n",
        "\n",
        "    def decoupage(self):\n",
        "        # Découpage en jeu d'entrainement et test\n",
        "        self.X_train, self.X_test, self.Y_train, self.Y_test = train_test_split(self.X, self.y, test_size=0.6, random_state=0)\n",
        "\n",
        "    def entrainement(self):\n",
        "        pass\n",
        "\n",
        "    def rien(self):\n",
        "        pass\n",
        "\n",
        "    def taux_reussite(self):\n",
        "        # Calcul du taux de réussite\n",
        "        y_pred = self.classifier.predict(self.X_test)\n",
        "        accuracy = accuracy_score(self.Y_test, y_pred)\n",
        "        return f\"{accuracy:.3f}\"\n",
        "\n",
        "    def f1_score(self):\n",
        "        # Calcul du F1-score\n",
        "        from sklearn.metrics import f1_score\n",
        "        y_pred = self.classifier.predict(self.X_test)\n",
        "        f1 = f1_score(self.Y_test, y_pred, average='weighted')\n",
        "\n",
        "         # Visualisation de la matrice de confusion\n",
        "        plt.figure(figsize=(8, 6))\n",
        "\n",
        "        cm = confusion_matrix(self.Y_test, y_pred)\n",
        "        sns.heatmap(cm, annot=True, fmt=\"d\", cmap=\"Blues\", xticklabels=self.y.unique(), yticklabels=self.y.unique())\n",
        "        plt.title('Matrice de Confusion')\n",
        "        plt.xlabel('Prédictions')\n",
        "        plt.ylabel('Vraies valeurs')\n",
        "        plt.show()\n",
        "        return f\"{f1:.3f}\"\n",
        "    \n",
        "    def predict(self, data):\n",
        "        X = data.iloc[:, :-1]  \n",
        "        ogc = data.iloc[:, -1] \n",
        "\n",
        "        y_pred = self.classifier.predict(X)  \n",
        "        y_pred = pd.Series(y_pred, name=\"cal_réponse_signalement\")\n",
        "        y_pred = y_pred.map({0: \"Pris en compte\", 1: \"Rejeté (hors specs)\"})\n",
        "\n",
        "        result = pd.concat([ogc, y_pred], axis=1)\n",
        "        result.to_csv(\"submission.csv\", index=False)\n",
        "\n",
        "        return result\n",
        "\n",
        "\n",
        "    def recherche_hyperparametres(self,param_grid):\n",
        "          # Recherche des meilleurs hyperparamètres avec GridSearchCV\n",
        "          grid_search = GridSearchCV(\n",
        "              self.classifier,\n",
        "              param_grid,\n",
        "              cv=5,  # Validation croisée 5-fold\n",
        "              scoring='f1',\n",
        "          )\n",
        "          grid_search.fit(self.X_train, self.Y_train) # tres important de preciser le label posit\n",
        "          self.classifier = grid_search.best_estimator_ # Automatiquement garde le meilleur classifieur\n",
        "          print(\"Meilleurs hyperparamètres :\", grid_search.best_params_)\n"
      ]
    },
    {
      "cell_type": "code",
      "execution_count": 88,
      "metadata": {
        "id": "nAx2MGzSOn_S"
      },
      "outputs": [],
      "source": [
        "from sklearn.naive_bayes import MultinomialNB\n",
        "\n",
        "\n",
        "class Multinomial(Classifieur):\n",
        "    def __init__(self, data, alpha = None, fit_prior = None):\n",
        "        super().__init__(data)\n",
        "        self.classifier = MultinomialNB()\n",
        "        if alpha : self.classifier.alpha = alpha\n",
        "        if fit_prior : self.classifier.fit_prior = fit_prior\n",
        "\n",
        "    def entrainement(self):\n",
        "        # Entraînement du modèle avec les données\n",
        "        self.classifier.fit(self.X_train, self.Y_train)\n"
      ]
    },
    {
      "cell_type": "code",
      "execution_count": 89,
      "metadata": {
        "id": "Mbtkcyg7njLK"
      },
      "outputs": [],
      "source": [
        "from sklearn.naive_bayes import BernoulliNB\n",
        "\n",
        "\n",
        "class Bernoulli(Classifieur):\n",
        "    def __init__(self, data, alpha = None, fit_prior = None, binarize = None):\n",
        "        super().__init__(data)\n",
        "\n",
        "        self.classifier = BernoulliNB()\n",
        "        if alpha : self.classifier.alpha = alpha\n",
        "        if fit_prior : self.classifier.fit_prior = fit_prior\n",
        "        if binarize : self.classifier.binarize = binarize\n",
        "\n",
        "\n",
        "    def entrainement(self):\n",
        "        # Entraînement du modèle avec les données\n",
        "        self.classifier.fit(self.X_train, self.Y_train)"
      ]
    },
    {
      "cell_type": "code",
      "execution_count": 90,
      "metadata": {
        "id": "5Kpxa-J6njnS"
      },
      "outputs": [],
      "source": [
        "from sklearn.naive_bayes import GaussianNB\n",
        "\n",
        "\n",
        "class Gaussian(Classifieur):\n",
        "    def __init__(self, data, var_smoothing = None):\n",
        "        super().__init__(data)\n",
        "        self.classifier = GaussianNB()\n",
        "        if var_smoothing : self.classifier.var_smoothing = var_smoothing\n",
        "\n",
        "    def entrainement(self):\n",
        "        # Entraînement du modèle avec les données\n",
        "        self.classifier.fit(self.X_train, self.Y_train)"
      ]
    },
    {
      "cell_type": "code",
      "execution_count": 91,
      "metadata": {
        "id": "8fqw-IaPRTQ0"
      },
      "outputs": [],
      "source": [
        "from sklearn.linear_model import LogisticRegression\n",
        "\n",
        "class RegressionLogistique(Classifieur):\n",
        "    def __init__(self, data, penalty = None, C = None, solver = None, max_iter = None, l1_ratio = None, random_state = None):\n",
        "        super().__init__(data)\n",
        "        self.classifier = LogisticRegression()\n",
        "        if penalty : self.classifier.penalty = penalty\n",
        "        if C : self.classifier.C = C\n",
        "        if solver : self.classifier.solver = solver\n",
        "        if max_iter : self.classifier.max_iter = max_iter\n",
        "        if l1_ratio : self.classifier.l1_ratio\n",
        "        if random_state : self.classifier.random_state = random_state\n",
        "\n",
        "    def entrainement(self):\n",
        "        self.classifier.fit(self.X_train, self.Y_train)\n"
      ]
    },
    {
      "cell_type": "code",
      "execution_count": 92,
      "metadata": {
        "id": "pE4gII77RjTM"
      },
      "outputs": [],
      "source": [
        "from sklearn.neighbors import KNeighborsClassifier\n",
        "\n",
        "class KPlusProchesVoisins(Classifieur):\n",
        "    def __init__(self, data, n_neighbors = 3, weights = None, algorithm = None, p = None):\n",
        "        super().__init__(data)\n",
        "\n",
        "        self.classifier = KNeighborsClassifier()\n",
        "        if n_neighbors : self.classifier.n_neighbors = n_neighbors\n",
        "        if weights : self.classifier.weights = weights\n",
        "        if algorithm : self.classifier.algorithm = algorithm\n",
        "        if p : self.classifier.p = p\n",
        "\n",
        "    def entrainement(self):\n",
        "        self.classifier.fit(self.X_train, self.Y_train)\n"
      ]
    },
    {
      "cell_type": "code",
      "execution_count": 93,
      "metadata": {
        "id": "RPUV2vAXRx4G"
      },
      "outputs": [],
      "source": [
        "from sklearn.tree import DecisionTreeClassifier\n",
        "\n",
        "class ArbreDeDecision(Classifieur):\n",
        "    def __init__(self, data, criterion = None, max_depth = None, min_samples_split = None, min_samples_leaf = None, max_features = None, ccp_alpha = None, random_state = None):\n",
        "        super().__init__(data)\n",
        "        self.classifier = DecisionTreeClassifier()\n",
        "        if criterion : self.classifier.criterion = criterion\n",
        "        if max_depth : self.classifier.max_depth = max_depth\n",
        "        if min_samples_split : self.classifier.min_samples_split = min_samples_split\n",
        "        if min_samples_leaf : self.classifier.min_samples_leaf = min_samples_leaf\n",
        "        if max_features : self.classifier.max_features = max_features\n",
        "        if ccp_alpha : self.classifier.ccp_alpha = ccp_alpha\n",
        "        if random_state : self.classifier.random_state = random_state\n",
        "\n",
        "    def entrainement(self):\n",
        "        self.classifier.fit(self.X_train, self.Y_train)\n"
      ]
    },
    {
      "cell_type": "code",
      "execution_count": 98,
      "metadata": {
        "id": "t-mIMWs9R_AW"
      },
      "outputs": [],
      "source": [
        "from sklearn.ensemble import RandomForestClassifier\n",
        "\n",
        "class ForetAleatoire(Classifieur):\n",
        "    def __init__(self, data, n_estimators = 100, criterion = None, max_depth = None, min_samples_split = None, min_samples_leaf = None, max_features = None, bootstrap = None, ccp_alpha = None, random_state = 0 ):\n",
        "        super().__init__(data)\n",
        "        self.classifier = RandomForestClassifier()\n",
        "        if n_estimators : self.classifier.n_estimators = n_estimators\n",
        "        if criterion : self.classifier.criterion = criterion\n",
        "        if max_depth : self.classifier.max_depth = max_depth\n",
        "        if min_samples_split : self.classifier.min_samples_split = min_samples_split\n",
        "        if min_samples_leaf : self.classifier.min_samples_leaf = min_samples_leaf\n",
        "        if max_features : self.classifier.max_features = max_features\n",
        "        if bootstrap : self.classifier.bootstrap = bootstrap\n",
        "        if ccp_alpha : self.classifier.ccp_alpha = ccp_alpha\n",
        "        if random_state : self.classifier.random_state = random_state\n",
        "\n",
        "    def entrainement(self):\n",
        "        self.classifier.fit(self.X_train, self.Y_train)\n"
      ]
    },
    {
      "cell_type": "markdown",
      "metadata": {},
      "source": [
        "Exportation Kaggle"
      ]
    },
    {
      "cell_type": "code",
      "execution_count": null,
      "metadata": {},
      "outputs": [],
      "source": [
        "param_grid = {\n",
        "    'n_estimators': [100, 200, 500],\n",
        "    'max_depth': [10, 20, 30],\n",
        "    'min_samples_split': [2, 5, 10],\n",
        "    'min_samples_leaf': [1, 2, 5],\n",
        "    'max_features': ['sqrt', 'log2', None]\n",
        "}\n",
        "\n",
        "data = Data(test=True)\n",
        "data.lemmatisation()\n",
        "data.vectorisation_ponderee()\n",
        "data.reduction_nmf(n_components=30)\n",
        "data_test=data.get_data()\n",
        "print(\"data_tester terminé\")\n",
        "\n",
        "data = Data()\n",
        "data.lemmatisation()\n",
        "data.vectorisation_ponderee()\n",
        "data.reduction_nmf(n_components=30)\n",
        "data_train=data.get_data()\n",
        "print(\"data_entainement terminer\")\n",
        "\n",
        "foret = ForetAleatoire(data_train)\n",
        "foret.recherche_hyperparametres(param_grid)\n",
        "print(\"hyperparametre_termine\")\n",
        "print(foret.f1_score())\n",
        "fichier=foret.predict(data_test)\n",
        "print(\"prediction terminer\")"
      ]
    },
    {
      "cell_type": "markdown",
      "metadata": {
        "id": "Bd2b2L2IAW4L"
      },
      "source": [
        "Exemple d'utilisation en temps normal pour l'optimisation"
      ]
    },
    {
      "cell_type": "code",
      "execution_count": null,
      "metadata": {
        "colab": {
          "base_uri": "https://localhost:8080/"
        },
        "id": "8FL1rQpFAdBF",
        "outputId": "e1ef638f-ab60-4fb7-c2d4-ad488d1ebfa0"
      },
      "outputs": [],
      "source": [
        "data = Data(limit=1000)\n",
        "data.lemmatisation()\n",
        "data.vectorisation_ponderee()\n",
        "data.reduction_nmf()\n",
        "data = data.get_data()\n",
        "\n",
        "foret = ForetAleatoire(data)\n",
        "foret.entrainement()\n",
        "print(foret.f1_score())"
      ]
    },
    {
      "cell_type": "markdown",
      "metadata": {
        "id": "KXVYhTmDL4Uu"
      },
      "source": [
        "Optimisation de la foret"
      ]
    },
    {
      "cell_type": "code",
      "execution_count": null,
      "metadata": {
        "colab": {
          "background_save": true,
          "base_uri": "https://localhost:8080/"
        },
        "id": "lYIVbtY9L4DU",
        "outputId": "1a26613d-2934-4917-e741-a5fd0a976ea3"
      },
      "outputs": [],
      "source": [
        "#Donne les meilleurs hyperparametre de la foret\n",
        "param_grid = {\n",
        "    'n_estimators': [100, 200, 500],\n",
        "    'max_depth': [10, 20, None],\n",
        "    'min_samples_split': [2, 5, 10],\n",
        "    'min_samples_leaf': [1, 2, 5],\n",
        "    'max_features': ['sqrt', 'log2', None]\n",
        "}\n",
        "\n",
        "data = Data(limit = 50)\n",
        "print(\"etape 1\")\n",
        "data.lemmatisation()\n",
        "print(\"etape 2\")\n",
        "data.vectorisation_ponderee()\n",
        "print(\"etape 3\")\n",
        "data.reduction_nmf()\n",
        "print(\"etape 4\")\n",
        "data = data.get_data()\n",
        "print(\"etape 5\")\n",
        "\n",
        "foret = ForetAleatoire(data)\n",
        "print(\"etape 6\")\n",
        "foret.recherche_hyperparametres(param_grid)\n",
        "print(\"etape 7\")\n",
        "foret.f1_score()\n"
      ]
    }
  ],
  "metadata": {
    "colab": {
      "provenance": []
    },
    "kernelspec": {
      "display_name": "base",
      "language": "python",
      "name": "python3"
    },
    "language_info": {
      "codemirror_mode": {
        "name": "ipython",
        "version": 3
      },
      "file_extension": ".py",
      "mimetype": "text/x-python",
      "name": "python",
      "nbconvert_exporter": "python",
      "pygments_lexer": "ipython3",
      "version": "3.12.3"
    }
  },
  "nbformat": 4,
  "nbformat_minor": 0
}
